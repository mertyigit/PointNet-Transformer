{
 "cells": [
  {
   "attachments": {},
   "cell_type": "markdown",
   "metadata": {},
   "source": [
    "# **Visual Transformer 2D**\n"
   ]
  },
  {
   "cell_type": "code",
   "execution_count": 1,
   "metadata": {},
   "outputs": [
    {
     "ename": "ModuleNotFoundError",
     "evalue": "No module named 'MultiHeadAttentionBlock'",
     "output_type": "error",
     "traceback": [
      "\u001b[0;31m---------------------------------------------------------------------------\u001b[0m",
      "\u001b[0;31mModuleNotFoundError\u001b[0m                       Traceback (most recent call last)",
      "\u001b[1;32m/Users/mertyigitsengul/Projects/PointNet_Transformer/notebooks/vit_dev.ipynb Cell 2\u001b[0m line \u001b[0;36m3\n\u001b[1;32m     <a href='vscode-notebook-cell:/Users/mertyigitsengul/Projects/PointNet_Transformer/notebooks/vit_dev.ipynb#Y104sZmlsZQ%3D%3D?line=29'>30</a>\u001b[0m torch\u001b[39m.\u001b[39mmanual_seed(\u001b[39m0\u001b[39m)\n\u001b[1;32m     <a href='vscode-notebook-cell:/Users/mertyigitsengul/Projects/PointNet_Transformer/notebooks/vit_dev.ipynb#Y104sZmlsZQ%3D%3D?line=32'>33</a>\u001b[0m sys\u001b[39m.\u001b[39mpath\u001b[39m.\u001b[39mappend(\u001b[39m'\u001b[39m\u001b[39m../\u001b[39m\u001b[39m'\u001b[39m)\n\u001b[0;32m---> <a href='vscode-notebook-cell:/Users/mertyigitsengul/Projects/PointNet_Transformer/notebooks/vit_dev.ipynb#Y104sZmlsZQ%3D%3D?line=33'>34</a>\u001b[0m \u001b[39mfrom\u001b[39;00m \u001b[39msrc\u001b[39;00m\u001b[39m.\u001b[39;00m\u001b[39mmodels\u001b[39;00m\u001b[39m.\u001b[39;00m\u001b[39mVisualTransformerEncoder\u001b[39;00m \u001b[39mimport\u001b[39;00m \u001b[39m*\u001b[39m\n\u001b[1;32m     <a href='vscode-notebook-cell:/Users/mertyigitsengul/Projects/PointNet_Transformer/notebooks/vit_dev.ipynb#Y104sZmlsZQ%3D%3D?line=34'>35</a>\u001b[0m \u001b[39mfrom\u001b[39;00m \u001b[39msrc\u001b[39;00m\u001b[39m.\u001b[39;00m\u001b[39mmodels\u001b[39;00m\u001b[39m.\u001b[39;00m\u001b[39mVisualTransformerDecoder\u001b[39;00m \u001b[39mimport\u001b[39;00m \u001b[39m*\u001b[39m\n\u001b[1;32m     <a href='vscode-notebook-cell:/Users/mertyigitsengul/Projects/PointNet_Transformer/notebooks/vit_dev.ipynb#Y104sZmlsZQ%3D%3D?line=35'>36</a>\u001b[0m \u001b[39mfrom\u001b[39;00m \u001b[39msrc\u001b[39;00m\u001b[39m.\u001b[39;00m\u001b[39mmodels\u001b[39;00m\u001b[39m.\u001b[39;00m\u001b[39mMultiHeadAttentionBlock\u001b[39;00m \u001b[39mimport\u001b[39;00m \u001b[39m*\u001b[39m\n",
      "File \u001b[0;32m~/Projects/PointNet_Transformer/notebooks/../src/models/VisualTransformerEncoder.py:29\u001b[0m\n\u001b[1;32m     26\u001b[0m \u001b[39mimport\u001b[39;00m \u001b[39margparse\u001b[39;00m\n\u001b[1;32m     28\u001b[0m \u001b[39mfrom\u001b[39;00m \u001b[39m.\u001b[39;00m\u001b[39m.\u001b[39;00m\u001b[39mutils\u001b[39;00m\u001b[39m.\u001b[39;00m\u001b[39mfeatures\u001b[39;00m \u001b[39mimport\u001b[39;00m \u001b[39m*\u001b[39m\n\u001b[0;32m---> 29\u001b[0m \u001b[39mfrom\u001b[39;00m \u001b[39mMultiHeadAttentionBlock\u001b[39;00m \u001b[39mimport\u001b[39;00m \u001b[39m*\u001b[39m\n\u001b[1;32m     30\u001b[0m \u001b[39mfrom\u001b[39;00m \u001b[39mVisualTransformerEncoder\u001b[39;00m \u001b[39mimport\u001b[39;00m PositionWiseFeedForward\n\u001b[1;32m     32\u001b[0m \u001b[39mclass\u001b[39;00m \u001b[39mVisualTransformerEncoderBlock\u001b[39;00m(nn\u001b[39m.\u001b[39mModule):\n",
      "\u001b[0;31mModuleNotFoundError\u001b[0m: No module named 'MultiHeadAttentionBlock'"
     ]
    }
   ],
   "source": [
    "import os\n",
    "import sys\n",
    "import re\n",
    "from glob import glob\n",
    "import time\n",
    "import numpy as np\n",
    "import pandas as pd\n",
    "import torch\n",
    "import torch.nn as nn\n",
    "import torch.nn.functional as F\n",
    "import torchmetrics\n",
    "from torchmetrics.classification import MulticlassMatthewsCorrCoef\n",
    "from torch.utils.data import DataLoader\n",
    "import torch.optim as optim\n",
    "from torch.nn.functional import kl_div\n",
    "from torch.nn import CrossEntropyLoss\n",
    "from torch.optim import Adam\n",
    "from torch.utils.data import DataLoader\n",
    "import torchvision\n",
    "from torchvision.datasets.mnist import MNIST\n",
    "from torchvision.transforms import ToTensor\n",
    "\n",
    "import open3d as o3\n",
    "import math\n",
    "import yaml\n",
    "import argparse\n",
    "\n",
    "\n",
    "np.random.seed(0)\n",
    "torch.manual_seed(0)\n",
    "\n",
    "\n",
    "sys.path.append('../')\n",
    "from src.models.VisualTransformerEncoder import *\n",
    "from src.models.VisualTransformerDecoder import *\n",
    "from src.models.MultiHeadAttentionBlock import *\n",
    "from src.models.VisualTransformerGenerator import *\n",
    "from src.utils import features, utils\n",
    "from tqdm import tqdm, trange\n",
    "\n",
    "import matplotlib as mpl\n",
    "import matplotlib.pyplot as plt\n",
    "%matplotlib inline"
   ]
  },
  {
   "cell_type": "code",
   "execution_count": null,
   "metadata": {},
   "outputs": [],
   "source": [
    "# TEMP for supressing pytorch user warnings\n",
    "import warnings\n",
    "warnings.filterwarnings(\"ignore\")"
   ]
  },
  {
   "cell_type": "code",
   "execution_count": null,
   "metadata": {},
   "outputs": [],
   "source": [
    "print('MPS is build: {}'.format(torch.backends.mps.is_built()))\n",
    "print('MPS Availability: {}'.format(torch.backends.mps.is_available()))\n",
    "DEVICE = 'cuda' if torch.cuda.is_available() else 'mps'\n",
    "print('Device is set to :{}'.format(DEVICE))\n",
    "torch.seed = 42"
   ]
  },
  {
   "cell_type": "markdown",
   "metadata": {},
   "source": [
    "# DATA LOADING"
   ]
  },
  {
   "cell_type": "code",
   "execution_count": null,
   "metadata": {},
   "outputs": [],
   "source": [
    "transform = ToTensor()\n",
    "\n",
    "train_set = MNIST(\n",
    "    root=\"./../data\", train=True, download=True, transform=transform\n",
    ")\n",
    "test_set = MNIST(\n",
    "    root=\"./../data\", train=False, download=True, transform=transform\n",
    ")\n",
    "train_loader = DataLoader(train_set, shuffle=True, batch_size=32)\n",
    "test_loader = DataLoader(test_set, shuffle=False, batch_size=32)"
   ]
  },
  {
   "cell_type": "markdown",
   "metadata": {},
   "source": [
    "## PRE & POST PROCESSING SCRIPTS"
   ]
  },
  {
   "cell_type": "code",
   "execution_count": null,
   "metadata": {},
   "outputs": [],
   "source": [
    "#def patchify(images, n_patches):\n",
    "#    n, c, h, w = images.shape\n",
    "#\n",
    "#    assert h == w, \"Patchify method is implemented for square images only\"\n",
    "#\n",
    "#    patches = torch.zeros(n, n_patches**2, h * w * c // n_patches**2)\n",
    "#    patch_size = h // n_patches\n",
    "#\n",
    "#    for idx, image in enumerate(images):\n",
    "#        for i in range(n_patches):\n",
    "#            for j in range(n_patches):\n",
    "#                patch = image[\n",
    "#                    :,\n",
    "#                    i * patch_size : (i + 1) * patch_size,\n",
    "#                    j * patch_size : (j + 1) * patch_size,\n",
    "#                ]\n",
    "#                patches[idx, i * n_patches + j] = patch.flatten()\n",
    "#    return patches\n",
    "#\n",
    "#def depatchify(patches, n_patches, chw):\n",
    "#    # size of patches is expected to be n, h, w\n",
    "#    patch_h = chw[1] // n_patches\n",
    "#    patch_w = chw[2] // n_patches\n",
    "#    n = patches.shape[0]\n",
    "#\n",
    "#    images_recovered = torch.zeros(n, chw[0], chw[1], chw[2],  device='mps')\n",
    "#\n",
    "#    for idx, patch in enumerate(patches):\n",
    "#        \n",
    "#        image_r = torch.empty(0, chw[2],  device='mps')\n",
    "#        \n",
    "#        for i in range(n_patches):\n",
    "#            #patch_r_i_1 = patch[i, :].view(patch_h, patch_w)\n",
    "#            row_tensor = torch.empty(patch_h, 0,  device='mps')\n",
    "#            for j in range(n_patches):\n",
    "#                patch_r_row = patch[i*n_patches+j, :].view(patch_h, patch_w)\n",
    "#                row_tensor = torch.cat((row_tensor, patch_r_row), dim=1)\n",
    "#            \n",
    "#            image_r = torch.cat((image_r, row_tensor), dim=0)\n",
    "#\n",
    "#        images_recovered[idx] = image_r\n",
    "#    return images_recovered\n",
    "#\n",
    "#def get_positional_embeddings(sequence_length, d):\n",
    "#    result = torch.ones(sequence_length, d)\n",
    "#    for i in range(sequence_length):\n",
    "#        for j in range(d):\n",
    "#            result[i][j] = (\n",
    "#                np.sin(i / (10000 ** (j / d)))\n",
    "#                if j % 2 == 0\n",
    "#                else np.cos(i / (10000 ** ((j - 1) / d)))\n",
    "#            )\n",
    "#    return result\n",
    "\n",
    "def TensorToImageGrid(images_batch, rows, cols):\n",
    "    grid = torchvision.utils.make_grid(images_batch, nrow=cols)\n",
    "    grid = grid.permute(1, 2, 0).cpu().numpy()\n",
    "    plt.figure(figsize=(cols, rows))\n",
    "    plt.imshow(grid, cmap='gray')\n",
    "    plt.axis('off')\n",
    "    return plt.show()\n",
    "\n",
    "def TensorToImage(image):\n",
    "    plt.imshow(image.numpy(), cmap='gray')\n",
    "    return plt.show()"
   ]
  },
  {
   "cell_type": "code",
   "execution_count": null,
   "metadata": {},
   "outputs": [],
   "source": [
    "#class SelfAttentionLayer(nn.Module):\n",
    "#    '''\n",
    "#    hidden_d: number of hidden dimensions\n",
    "#    n_heads: number of attention heads\n",
    "#    \n",
    "#    '''\n",
    "#    def __init__(self, hidden_d, n_heads=2):\n",
    "#        super(SelfAttentionLayer, self).__init__()\n",
    "#        self.hidden_d = hidden_d\n",
    "#        self.n_heads = n_heads\n",
    "#\n",
    "#        assert hidden_d % n_heads == 0, f\"{hidden_d} cannot be divided into {n_heads} heads!\"\n",
    "#\n",
    "#        d_head = int(hidden_d / n_heads) ## Hidded dimensions per head\n",
    "#        \n",
    "#        # Define the linear transformation layers for Query, Key, and Value\n",
    "#        self.q_mappings = nn.ModuleList(\n",
    "#            [nn.Linear(d_head, d_head) for _ in range(self.n_heads)]\n",
    "#        )\n",
    "#        self.k_mappings = nn.ModuleList(\n",
    "#            [nn.Linear(d_head, d_head) for _ in range(self.n_heads)]\n",
    "#        )\n",
    "#        self.v_mappings = nn.ModuleList(\n",
    "#            [nn.Linear(d_head, d_head) for _ in range(self.n_heads)]\n",
    "#        )\n",
    "#        self.d_head = d_head\n",
    "#        self.softmax = nn.Softmax(dim=-1)\n",
    "#\n",
    "#    def forward(self, sequences):\n",
    "#        \n",
    "#        # Sequences has shape (N, seq_length, token_dim)\n",
    "#        # We go into shape    (N, seq_length, n_heads, token_dim / n_heads)\n",
    "#        # And come back to    (N, seq_length, item_dim)  (through concatenation)\n",
    "#\n",
    "#        result = []\n",
    "#        for sequence in sequences:\n",
    "#            seq_result = []\n",
    "#            for head in range(self.n_heads):\n",
    "#                q_mapping = self.q_mappings[head]\n",
    "#                k_mapping = self.k_mappings[head]\n",
    "#                v_mapping = self.v_mappings[head]\n",
    "#\n",
    "#                seq = sequence[:, head * self.d_head : (head + 1) * self.d_head]\n",
    "#                q, k, v = q_mapping(seq), k_mapping(seq), v_mapping(seq)\n",
    "#\n",
    "#                attention = self.softmax(q @ k.T / (self.d_head**0.5)) # Apply the softmax function to calculated the scaled dot-product attention scores to get attention weights\n",
    "#                # attention = F.dropout(attention, p=0.1) # Drop out to attention - optional\n",
    "#                seq_result.append(attention @ v)  # Calculate the weighted sum using the attention weights\n",
    "#            result.append(torch.hstack(seq_result))\n",
    "#        return torch.cat([torch.unsqueeze(r, dim=0) for r in result])\n",
    "#\n",
    "#"
   ]
  },
  {
   "cell_type": "code",
   "execution_count": null,
   "metadata": {},
   "outputs": [],
   "source": [
    "class MultiHeadAttention(nn.Module):\n",
    "    def __init__(self, hidden_d, n_heads):\n",
    "        super(MultiHeadAttention, self).__init__()\n",
    "        assert hidden_d % n_heads == 0, f\"{hidden_d} cannot be divided into {n_heads} heads!\"\n",
    "\n",
    "        self.hidden_d = hidden_d\n",
    "        self.n_heads = n_heads\n",
    "        self.d_k = hidden_d // n_heads ## Hidded dimensions per head\n",
    "        \n",
    "        # Define the linear transformation layers for Query, Key, and Value\n",
    "        self.W_q = nn.Linear(hidden_d, hidden_d)\n",
    "        self.W_k = nn.Linear(hidden_d, hidden_d)\n",
    "        self.W_v = nn.Linear(hidden_d, hidden_d)\n",
    "        self.W_o = nn.Linear(hidden_d, hidden_d)\n",
    "        \n",
    "    def scaled_dot_product_attention(self, Q, K, V, mask=None):\n",
    "        # Apply the softmax function to calculated the scaled dot-product attention scores to get attention weights\n",
    "        attn_scores = torch.matmul(Q, K.transpose(-2, -1)) / math.sqrt(self.d_k)\n",
    "        if mask is not None:\n",
    "            attn_scores = attn_scores.masked_fill(mask == 0, -1e9)\n",
    "        attn_probs = torch.softmax(attn_scores, dim=-1)\n",
    "        output = torch.matmul(attn_probs, V) # Calculate the weighted sum using the attention weights\n",
    "        return output\n",
    "        \n",
    "    def split_heads(self, x):\n",
    "        batch_size, seq_length, hidden_d = x.size()\n",
    "        return x.view(batch_size, seq_length, self.n_heads, self.d_k).transpose(1, 2)\n",
    "        \n",
    "    def combine_heads(self, x):\n",
    "        batch_size, _, seq_length, d_k = x.size()\n",
    "        return x.transpose(1, 2).contiguous().view(batch_size, seq_length, self.hidden_d)\n",
    "        \n",
    "    def forward(self, Q, K, V, mask=None):\n",
    "        Q = self.split_heads(self.W_q(Q))\n",
    "        K = self.split_heads(self.W_k(K))\n",
    "        V = self.split_heads(self.W_v(V))\n",
    "        \n",
    "        attn_output = self.scaled_dot_product_attention(Q, K, V, mask)\n",
    "        output = self.W_o(self.combine_heads(attn_output))\n",
    "        return output"
   ]
  },
  {
   "cell_type": "markdown",
   "metadata": {},
   "source": [
    "![Alt text](image.png)"
   ]
  },
  {
   "cell_type": "code",
   "execution_count": null,
   "metadata": {},
   "outputs": [],
   "source": [
    "class PositionWiseFeedForward(nn.Module):\n",
    "    def __init__(self, hidden_d, d_ff):\n",
    "        super(PositionWiseFeedForward, self).__init__()\n",
    "        self.fc1 = nn.Linear(hidden_d, d_ff)\n",
    "        self.fc2 = nn.Linear(d_ff, hidden_d)\n",
    "        self.relu = nn.ReLU()\n",
    "\n",
    "    def forward(self, x):\n",
    "        return self.fc2(self.relu(self.fc1(x)))"
   ]
  },
  {
   "cell_type": "code",
   "execution_count": null,
   "metadata": {},
   "outputs": [],
   "source": [
    "\n",
    "class VisualTransformerEncoderBlock(nn.Module):\n",
    "    '''\n",
    "    Not typical transformer block, the normalization and linear layers are there but the order is different.\n",
    "    '''\n",
    "    def __init__(self, hidden_d, n_heads, mlp_ratio=4):\n",
    "        super(VisualTransformerEncoderBlock, self).__init__()\n",
    "        self.hidden_d = hidden_d\n",
    "        self.n_heads = n_heads\n",
    "\n",
    "        self.norm1 = nn.LayerNorm(hidden_d)\n",
    "        self.mhsa = MultiHeadAttention(hidden_d, n_heads)\n",
    "        self.norm2 = nn.LayerNorm(hidden_d)\n",
    "        self.mlp = nn.Sequential(\n",
    "            nn.Linear(hidden_d, mlp_ratio * hidden_d),\n",
    "            nn.GELU(),\n",
    "            nn.Linear(mlp_ratio * hidden_d, hidden_d),\n",
    "        )\n",
    "\n",
    "    def forward(self, x):\n",
    "        out = x + self.mhsa(self.norm1(x), self.norm1(x), self.norm1(x)) \n",
    "        out = out + self.mlp(self.norm2(out))\n",
    "        return out\n"
   ]
  },
  {
   "cell_type": "code",
   "execution_count": null,
   "metadata": {},
   "outputs": [],
   "source": [
    "class VisualTransformerEncoder(nn.Module):\n",
    "    def __init__(self, chw, n_patches=7, num_layers=2, hidden_d=8, n_heads=2):\n",
    "        # Super constructor\n",
    "        super(VisualTransformerEncoder, self).__init__()\n",
    "\n",
    "        # Attributes\n",
    "        self.chw = chw  # ( C , H , W )\n",
    "        self.n_patches = n_patches\n",
    "        self.num_layers = num_layers\n",
    "        self.n_heads = n_heads\n",
    "        self.hidden_d = hidden_d\n",
    "\n",
    "        # Input and patches sizes\n",
    "        assert (\n",
    "            chw[1] % n_patches == 0\n",
    "        ), \"Input shape not entirely divisible by number of patches\"\n",
    "        assert (\n",
    "            chw[2] % n_patches == 0\n",
    "        ), \"Input shape not entirely divisible by number of patches\"\n",
    "        self.patch_size = (chw[1] / n_patches, chw[2] / n_patches)\n",
    "\n",
    "        # 1) Linear mapper\n",
    "        self.input_d = int(chw[0] * self.patch_size[0] * self.patch_size[1])\n",
    "        self.linear_mapper = nn.Linear(self.input_d, self.hidden_d)\n",
    "\n",
    "        # 2) Learnable classification token\n",
    "        self.class_token = nn.Parameter(torch.rand(1, self.hidden_d))\n",
    "\n",
    "        # 3) Positional embedding\n",
    "        self.register_buffer(\n",
    "            \"positional_embeddings\",\n",
    "            get_positional_embeddings(n_patches**2, hidden_d),\n",
    "            persistent=False,\n",
    "        )\n",
    "\n",
    "        # 4) Transformer encoder blocks\n",
    "        self.blocks = nn.ModuleList(\n",
    "            [VisualTransformerEncoderBlock(hidden_d, n_heads) for _ in range(num_layers)]\n",
    "        )\n",
    "\n",
    "    def forward(self, images):\n",
    "        # Image to Patches\n",
    "        n, c, h, w = images.shape\n",
    "        patches = patchify(images, self.n_patches).to(self.positional_embeddings.device)\n",
    "\n",
    "        # Patch vector to Hidden Dimensions\n",
    "        tokens = self.linear_mapper(patches)\n",
    "\n",
    "        # Adding classification token to the tokens\n",
    "        #tokens = torch.cat((self.class_token.expand(n, 1, -1), tokens), dim=1)\n",
    "\n",
    "        # Adding positional embedding\n",
    "        out = tokens + self.positional_embeddings.repeat(n, 1, 1)\n",
    "\n",
    "        # Transformer Blocks\n",
    "        for block in self.blocks:\n",
    "            out = block(out)\n",
    "\n",
    "        return out, patches"
   ]
  },
  {
   "cell_type": "markdown",
   "metadata": {},
   "source": [
    "![Alt text](image-1.png)"
   ]
  },
  {
   "cell_type": "code",
   "execution_count": null,
   "metadata": {},
   "outputs": [],
   "source": [
    "class VisualTransformerDecoderBlock(nn.Module):\n",
    "    def __init__(self, hidden_d, n_heads, d_ff, dropout):\n",
    "        super(VisualTransformerDecoderBlock, self).__init__()\n",
    "        self.self_attn = MultiHeadAttention(hidden_d, n_heads)\n",
    "        self.cross_attn = MultiHeadAttention(hidden_d, n_heads)\n",
    "        self.feed_forward = PositionWiseFeedForward(hidden_d, d_ff)\n",
    "        self.norm1 = nn.LayerNorm(hidden_d)\n",
    "        self.norm2 = nn.LayerNorm(hidden_d)\n",
    "        self.norm3 = nn.LayerNorm(hidden_d)\n",
    "        self.dropout = nn.Dropout(dropout)\n",
    "        \n",
    "    def forward(self, x, enc_output, src_mask, tgt_mask):\n",
    "        attn_output = self.self_attn(x, x, x, tgt_mask)\n",
    "        x = self.norm1(x + self.dropout(attn_output))\n",
    "        attn_output = self.cross_attn(x, enc_output, enc_output, src_mask)\n",
    "        x = self.norm2(x + self.dropout(attn_output))\n",
    "        ff_output = self.feed_forward(x)\n",
    "        x = self.norm3(x + self.dropout(ff_output))\n",
    "        return x"
   ]
  },
  {
   "cell_type": "code",
   "execution_count": null,
   "metadata": {},
   "outputs": [],
   "source": [
    "class VisualTransformerDecoder(nn.Module):\n",
    "    def __init__(self, chw, d_ff, dropout, n_patches=7, num_layers=2, hidden_d=8, n_heads=2):\n",
    "        # Super constructor\n",
    "        super(VisualTransformerDecoder, self).__init__()\n",
    "\n",
    "        # Attributes\n",
    "        self.chw = chw  # ( C , H , W )\n",
    "        self.n_patches = n_patches\n",
    "        self.num_layers = num_layers\n",
    "        self.n_heads = n_heads\n",
    "        self.hidden_d = hidden_d\n",
    "        self.d_ff = d_ff\n",
    "        self.dropout = dropout\n",
    "        # Input and patches sizes\n",
    "        assert (\n",
    "            chw[1] % n_patches == 0\n",
    "        ), \"Input shape not entirely divisible by number of patches\"\n",
    "        assert (\n",
    "            chw[2] % n_patches == 0\n",
    "        ), \"Input shape not entirely divisible by number of patches\"\n",
    "        self.patch_size = (chw[1] / n_patches, chw[2] / n_patches)\n",
    "\n",
    "        # 1) Linear mapper\n",
    "        self.input_d = int(chw[0] * self.patch_size[0] * self.patch_size[1])\n",
    "        self.linear_mapper = nn.Linear(self.input_d, self.hidden_d)\n",
    "\n",
    "        # 2) Learnable classification token\n",
    "        self.class_token = nn.Parameter(torch.rand(1, self.hidden_d))\n",
    "\n",
    "        # 3) Positional embedding\n",
    "        self.register_buffer(\n",
    "            \"positional_embeddings\",\n",
    "            get_positional_embeddings(n_patches**2, hidden_d),\n",
    "            persistent=False,\n",
    "        )\n",
    "\n",
    "        # 4) Transformer encoder blocks\n",
    "        self.blocks = nn.ModuleList(\n",
    "            [VisualTransformerDecoderBlock(hidden_d, n_heads, d_ff, dropout) for _ in range(num_layers)]\n",
    "        )\n",
    "\n",
    "        self.linear_decoder = nn.Linear(self.hidden_d, self.input_d)\n",
    "\n",
    "    def forward(self, images,  enc_output, src_mask, tgt_mask):\n",
    "        # Image to Patches\n",
    "        n, c, h, w = images.shape\n",
    "        patches = patchify(images, self.n_patches).to(self.positional_embeddings.device)\n",
    "\n",
    "        # Patch vector to Hidden Dimensions\n",
    "        tokens = self.linear_mapper(patches)\n",
    "\n",
    "        # Adding classification token to the tokens\n",
    "        #tokens = torch.cat((self.class_token.expand(n, 1, -1), tokens), dim=1)\n",
    "\n",
    "        # Adding positional embedding\n",
    "        out = tokens + self.positional_embeddings.repeat(n, 1, 1)\n",
    "\n",
    "        # Transformer Blocks\n",
    "        for block in self.blocks:\n",
    "            out = block(out, enc_output, src_mask, tgt_mask)\n",
    "        \n",
    "        out = self.linear_decoder(out)\n",
    "\n",
    "        images = depatchify(out, self.n_patches, self.chw).to(self.positional_embeddings.device)\n",
    "\n",
    "        return images"
   ]
  },
  {
   "cell_type": "code",
   "execution_count": null,
   "metadata": {},
   "outputs": [],
   "source": [
    "class Transformer(nn.Module):\n",
    "    def __init__(self, hidden_d, n_heads, num_layers, d_ff, dropout, n_patches):\n",
    "        super(Transformer, self).__init__()\n",
    "\n",
    "        self.n_heads = n_heads\n",
    "        self.hidden_d = hidden_d\n",
    "        self.num_layers = num_layers\n",
    "        self.d_ff = d_ff\n",
    "        self.dropout = dropout\n",
    "        self.n_patches = n_patches\n",
    "\n",
    "        self.encoder = VisualTransformerEncoder((1, 28, 28), n_patches=self.n_patches, num_layers=self.num_layers, hidden_d=self.hidden_d, n_heads=self.n_heads)\n",
    "        self.decoder = VisualTransformerDecoder((1, 28, 28), d_ff=self.d_ff, dropout=self.dropout, n_patches=self.n_patches, num_layers=self.num_layers, hidden_d=self.hidden_d, n_heads=self.n_heads)\n",
    "\n",
    "        \n",
    "    def generate_mask(self, patches):\n",
    "        src = torch.ones((patches.size(0), patches.size(1)))\n",
    "        tgt = torch.ones((patches.size(0), patches.size(1)))\n",
    "\n",
    "        src_mask = (src != 0).unsqueeze(1).unsqueeze(2)\n",
    "        tgt_mask = (tgt != 0).unsqueeze(1).unsqueeze(3)\n",
    "        seq_length = tgt.size(1)\n",
    "        nopeak_mask = (1 - torch.triu(torch.ones(1, seq_length, seq_length), diagonal=1)).bool()\n",
    "        tgt_mask = tgt_mask & nopeak_mask\n",
    "\n",
    "        return src_mask, tgt_mask\n",
    "\n",
    "    def forward(self, images):\n",
    "        enc_output, patches = self.encoder(images)\n",
    "        src_mask, tgt_mask = self.generate_mask(patches)\n",
    "        src_mask = src_mask.to(device='mps')\n",
    "        tgt_mask = tgt_mask.to(device='mps')\n",
    "        dec_output = self.decoder(images, enc_output, src_mask, tgt_mask)\n",
    "        return dec_output"
   ]
  },
  {
   "cell_type": "code",
   "execution_count": 3,
   "metadata": {},
   "outputs": [
    {
     "ename": "NameError",
     "evalue": "name 'VisualTransformerEncoder' is not defined",
     "output_type": "error",
     "traceback": [
      "\u001b[0;31m---------------------------------------------------------------------------\u001b[0m",
      "\u001b[0;31mNameError\u001b[0m                                 Traceback (most recent call last)",
      "\u001b[1;32m/Users/mertyigitsengul/Projects/PointNet_Transformer/notebooks/vit_dev.ipynb Cell 19\u001b[0m line \u001b[0;36m9\n\u001b[1;32m      <a href='vscode-notebook-cell:/Users/mertyigitsengul/Projects/PointNet_Transformer/notebooks/vit_dev.ipynb#Y130sZmlsZQ%3D%3D?line=4'>5</a>\u001b[0m d_ff \u001b[39m=\u001b[39m \u001b[39m512\u001b[39m\n\u001b[1;32m      <a href='vscode-notebook-cell:/Users/mertyigitsengul/Projects/PointNet_Transformer/notebooks/vit_dev.ipynb#Y130sZmlsZQ%3D%3D?line=5'>6</a>\u001b[0m dropout \u001b[39m=\u001b[39m \u001b[39m0.1\u001b[39m\n\u001b[0;32m----> <a href='vscode-notebook-cell:/Users/mertyigitsengul/Projects/PointNet_Transformer/notebooks/vit_dev.ipynb#Y130sZmlsZQ%3D%3D?line=8'>9</a>\u001b[0m encoder \u001b[39m=\u001b[39m VisualTransformerEncoder((\u001b[39m1\u001b[39m, \u001b[39m28\u001b[39m, \u001b[39m28\u001b[39m), n_patches\u001b[39m=\u001b[39mn_patches, num_layers\u001b[39m=\u001b[39mnum_layers, hidden_d\u001b[39m=\u001b[39mhidden_d, n_heads\u001b[39m=\u001b[39mn_heads)\u001b[39m.\u001b[39mto(DEVICE)\n\u001b[1;32m     <a href='vscode-notebook-cell:/Users/mertyigitsengul/Projects/PointNet_Transformer/notebooks/vit_dev.ipynb#Y130sZmlsZQ%3D%3D?line=9'>10</a>\u001b[0m \u001b[39m##decoder_layers = nn.ModuleList([VisualTransformerDecoderBlock(hidden_d, n_heads, d_ff, dropout) for _ in range(num_layers)])\u001b[39;00m\n\u001b[1;32m     <a href='vscode-notebook-cell:/Users/mertyigitsengul/Projects/PointNet_Transformer/notebooks/vit_dev.ipynb#Y130sZmlsZQ%3D%3D?line=10'>11</a>\u001b[0m decoder \u001b[39m=\u001b[39m VisualTransformerDecoder((\u001b[39m1\u001b[39m, \u001b[39m28\u001b[39m, \u001b[39m28\u001b[39m), d_ff\u001b[39m=\u001b[39md_ff, dropout\u001b[39m=\u001b[39mdropout, n_patches\u001b[39m=\u001b[39mn_patches, num_layers\u001b[39m=\u001b[39mnum_layers, hidden_d\u001b[39m=\u001b[39mhidden_d, n_heads\u001b[39m=\u001b[39mn_heads)\u001b[39m.\u001b[39mto(DEVICE)\n",
      "\u001b[0;31mNameError\u001b[0m: name 'VisualTransformerEncoder' is not defined"
     ]
    }
   ],
   "source": [
    "n_patches = 7\n",
    "num_layers = 4\n",
    "hidden_d = 64\n",
    "n_heads = 8\n",
    "d_ff = 512\n",
    "dropout = 0.1\n",
    "\n",
    "\n",
    "encoder = VisualTransformerEncoder((1, 28, 28), n_patches=n_patches, num_layers=num_layers, hidden_d=hidden_d, n_heads=n_heads).to(DEVICE)\n",
    "##decoder_layers = nn.ModuleList([VisualTransformerDecoderBlock(hidden_d, n_heads, d_ff, dropout) for _ in range(num_layers)])\n",
    "decoder = VisualTransformerDecoder((1, 28, 28), d_ff=d_ff, dropout=dropout, n_patches=n_patches, num_layers=num_layers, hidden_d=hidden_d, n_heads=n_heads).to(DEVICE)"
   ]
  },
  {
   "cell_type": "code",
   "execution_count": null,
   "metadata": {},
   "outputs": [],
   "source": [
    "images, classes = next(iter(train_loader))\n",
    "print(images.shape, classes.shape)\n",
    "patches = patchify(images, n_patches).unsqueeze(1)\n",
    "print(patches.shape)"
   ]
  },
  {
   "cell_type": "code",
   "execution_count": null,
   "metadata": {},
   "outputs": [],
   "source": [
    "def generate_mask(patches):\n",
    "    src = torch.ones((patches.size(0), patches.size(2)))\n",
    "    tgt = torch.ones((patches.size(0), patches.size(2)))\n",
    "\n",
    "    src_mask = (src != 0).unsqueeze(1).unsqueeze(2)\n",
    "    tgt_mask = (tgt != 0).unsqueeze(1).unsqueeze(3)\n",
    "    seq_length = tgt.size(1)\n",
    "    nopeak_mask = (1 - torch.triu(torch.ones(1, seq_length, seq_length), diagonal=1)).bool()\n",
    "    tgt_mask = tgt_mask & nopeak_mask\n",
    "    return src_mask, tgt_mask"
   ]
  },
  {
   "cell_type": "code",
   "execution_count": null,
   "metadata": {},
   "outputs": [],
   "source": [
    "src_mask, tgt_mask = generate_mask(patches)\n",
    "src_mask = src_mask.to(DEVICE)\n",
    "tgt_mask = tgt_mask.to(DEVICE)\n",
    "#src_embedded = positional_encoding(encoder_embedding(src))\n",
    "#tgt_embedded = positional_encoding(decoder_embedding(tgt))\n",
    "#enc_output = src_embedded\n",
    "enc_output = encoder(images)\n",
    "print('Encoded Latent Shape: {}'.format(enc_output.shape))\n",
    "dec_output = decoder(images, enc_output, src_mask, tgt_mask)\n",
    "print('Decoded Sequence Shape: {}'.format(dec_output.shape))"
   ]
  },
  {
   "cell_type": "code",
   "execution_count": 2,
   "metadata": {},
   "outputs": [
    {
     "ename": "NameError",
     "evalue": "name 'Transformer' is not defined",
     "output_type": "error",
     "traceback": [
      "\u001b[0;31m---------------------------------------------------------------------------\u001b[0m",
      "\u001b[0;31mNameError\u001b[0m                                 Traceback (most recent call last)",
      "\u001b[1;32m/Users/mertyigitsengul/Projects/PointNet_Transformer/notebooks/vit_dev.ipynb Cell 23\u001b[0m line \u001b[0;36m9\n\u001b[1;32m      <a href='vscode-notebook-cell:/Users/mertyigitsengul/Projects/PointNet_Transformer/notebooks/vit_dev.ipynb#Y134sZmlsZQ%3D%3D?line=5'>6</a>\u001b[0m dropout \u001b[39m=\u001b[39m \u001b[39m0.1\u001b[39m\n\u001b[1;32m      <a href='vscode-notebook-cell:/Users/mertyigitsengul/Projects/PointNet_Transformer/notebooks/vit_dev.ipynb#Y134sZmlsZQ%3D%3D?line=6'>7</a>\u001b[0m learning_rate \u001b[39m=\u001b[39m \u001b[39m0.0001\u001b[39m\n\u001b[0;32m----> <a href='vscode-notebook-cell:/Users/mertyigitsengul/Projects/PointNet_Transformer/notebooks/vit_dev.ipynb#Y134sZmlsZQ%3D%3D?line=8'>9</a>\u001b[0m transformer \u001b[39m=\u001b[39m Transformer(hidden_d, n_heads, num_layers, d_ff, dropout, n_patches)\u001b[39m.\u001b[39mto(DEVICE)\n\u001b[1;32m     <a href='vscode-notebook-cell:/Users/mertyigitsengul/Projects/PointNet_Transformer/notebooks/vit_dev.ipynb#Y134sZmlsZQ%3D%3D?line=9'>10</a>\u001b[0m \u001b[39m#criterion = nn.CrossEntropyLoss(ignore_index=0).to(DEVICE)\u001b[39;00m\n\u001b[1;32m     <a href='vscode-notebook-cell:/Users/mertyigitsengul/Projects/PointNet_Transformer/notebooks/vit_dev.ipynb#Y134sZmlsZQ%3D%3D?line=10'>11</a>\u001b[0m criterion \u001b[39m=\u001b[39m nn\u001b[39m.\u001b[39mMSELoss()\u001b[39m.\u001b[39mto(DEVICE)\n",
      "\u001b[0;31mNameError\u001b[0m: name 'Transformer' is not defined"
     ]
    }
   ],
   "source": [
    "n_patches = 7\n",
    "num_layers = 4\n",
    "hidden_d = 64\n",
    "n_heads = 8\n",
    "d_ff = 512\n",
    "dropout = 0.1\n",
    "learning_rate = 0.0001\n",
    "\n",
    "transformer = Transformer(hidden_d, n_heads, num_layers, d_ff, dropout, n_patches).to(DEVICE)\n",
    "#criterion = nn.CrossEntropyLoss(ignore_index=0).to(DEVICE)\n",
    "criterion = nn.MSELoss().to(DEVICE)\n",
    "optimizer = optim.Adam(transformer.parameters(), lr=learning_rate, eps=1e-9)\n",
    "transformer.train()\n",
    "\n",
    "for epoch in range(2):\n",
    "    for batch in tqdm(train_loader):\n",
    "        images, _ = batch\n",
    "        images = images.to(DEVICE)\n",
    "        \n",
    "        optimizer.zero_grad()\n",
    "        output = transformer(images)\n",
    "        loss = criterion(images, output)\n",
    "        loss.backward()\n",
    "        optimizer.step()\n",
    "    \n",
    "\n",
    "    \n",
    "    print(f\"Epoch: {epoch+1}, Loss: {loss.item()}\")"
   ]
  },
  {
   "cell_type": "code",
   "execution_count": null,
   "metadata": {},
   "outputs": [],
   "source": [
    "images = next(iter(test_loader))"
   ]
  },
  {
   "cell_type": "code",
   "execution_count": null,
   "metadata": {},
   "outputs": [],
   "source": [
    "transformer.eval()\n",
    "N=3\n",
    "TensorToImage(transformer(images[0])[N].squeeze().detach().cpu())"
   ]
  },
  {
   "cell_type": "code",
   "execution_count": null,
   "metadata": {},
   "outputs": [],
   "source": [
    "TensorToImage(images[0][N].squeeze().detach().cpu())"
   ]
  },
  {
   "cell_type": "code",
   "execution_count": null,
   "metadata": {},
   "outputs": [],
   "source": []
  },
  {
   "cell_type": "code",
   "execution_count": null,
   "metadata": {},
   "outputs": [],
   "source": [
    "#TensorToImage(depatchify(dec_output.detach().cpu(), n_patches, chw)[0].squeeze())\n",
    "#TensorToImageGrid(depatchify(dec_output.detach().cpu(), n_patches, chw), rows=16, cols=8)\n",
    "TensorToImageGrid(depatchify(patches.squeeze(1), n_patches, chw), rows=8, cols=16)\n"
   ]
  },
  {
   "cell_type": "code",
   "execution_count": null,
   "metadata": {},
   "outputs": [],
   "source": [
    "TensorToImage(image_r)"
   ]
  },
  {
   "cell_type": "code",
   "execution_count": null,
   "metadata": {},
   "outputs": [],
   "source": [
    "TensorToImage(images[0].squeeze())"
   ]
  },
  {
   "cell_type": "code",
   "execution_count": null,
   "metadata": {},
   "outputs": [],
   "source": []
  },
  {
   "cell_type": "code",
   "execution_count": null,
   "metadata": {},
   "outputs": [],
   "source": []
  },
  {
   "cell_type": "code",
   "execution_count": null,
   "metadata": {},
   "outputs": [],
   "source": []
  },
  {
   "cell_type": "code",
   "execution_count": null,
   "metadata": {},
   "outputs": [],
   "source": []
  },
  {
   "cell_type": "code",
   "execution_count": null,
   "metadata": {},
   "outputs": [],
   "source": [
    "\n",
    "def main():\n",
    "    device = torch.device(\"cuda\" if torch.cuda.is_available() else \"cpu\")\n",
    "\n",
    "    model = VisualTransformer(\n",
    "        (1, 28, 28), n_patches=7, n_blocks=2, hidden_d=8, n_heads=2, out_d=10\n",
    "    ).to(device)\n",
    "    N_EPOCHS = 5\n",
    "    LR = 0.005\n",
    "\n",
    "    # Training loop\n",
    "    optimizer = Adam(model.parameters(), lr=LR)\n",
    "    criterion = CrossEntropyLoss()\n",
    "    for epoch in trange(N_EPOCHS, desc=\"Training\"):\n",
    "        train_loss = 0.0\n",
    "        for batch in tqdm(\n",
    "            train_loader, desc=f\"Epoch {epoch + 1} in training\", leave=False\n",
    "        ):\n",
    "            x, y = batch\n",
    "            x, y = x.to(device), y.to(device)\n",
    "            y_hat = model(x)\n",
    "            loss = criterion(y_hat, y)\n",
    "\n",
    "            train_loss += loss.detach().cpu().item() / len(train_loader)\n",
    "\n",
    "            optimizer.zero_grad()\n",
    "            loss.backward()\n",
    "            optimizer.step()\n",
    "\n",
    "        print(f\"Epoch {epoch + 1}/{N_EPOCHS} loss: {train_loss:.2f}\")\n",
    "\n",
    "    # Test loop\n",
    "    with torch.no_grad():\n",
    "        correct, total = 0, 0\n",
    "        test_loss = 0.0\n",
    "        for batch in tqdm(test_loader, desc=\"Testing\"):\n",
    "            x, y = batch\n",
    "            x, y = x.to(device), y.to(device)\n",
    "            y_hat = model(x)\n",
    "            loss = criterion(y_hat, y)\n",
    "            test_loss += loss.detach().cpu().item() / len(test_loader)\n",
    "\n",
    "            correct += torch.sum(torch.argmax(y_hat, dim=1) == y).detach().cpu().item()\n",
    "            total += len(x)\n",
    "        print(f\"Test loss: {test_loss:.2f}\")\n",
    "        print(f\"Test accuracy: {correct / total * 100:.2f}%\")\n",
    "\n",
    "\n",
    "if __name__ == \"__main__\":\n",
    "    main()"
   ]
  },
  {
   "cell_type": "code",
   "execution_count": null,
   "metadata": {},
   "outputs": [],
   "source": []
  },
  {
   "cell_type": "code",
   "execution_count": null,
   "metadata": {},
   "outputs": [],
   "source": []
  },
  {
   "cell_type": "code",
   "execution_count": null,
   "metadata": {},
   "outputs": [],
   "source": []
  },
  {
   "cell_type": "code",
   "execution_count": null,
   "metadata": {},
   "outputs": [],
   "source": []
  },
  {
   "cell_type": "code",
   "execution_count": null,
   "metadata": {},
   "outputs": [],
   "source": [
    "encoder = PointCloudEncoder(latent_dim=LATENT_DIM, num_point=NUM_POINTS).to(DEVICE)\n",
    "#encoder = PointNetBackbone(num_points=NUM_POINTS, num_global_feats=LATENT_DIM, local_feat=False).to(DEVICE)\n",
    "decoder = PointCloudDecoderMLP(latent_dim=LATENT_DIM, num_hidden=3, num_point=NUM_POINTS).to(DEVICE)\n",
    "autoencoder = AutoEncoder(encoder, decoder, device=DEVICE, latent_dim=LATENT_DIM).to(DEVICE)\n",
    "vae = VAE(encoder, decoder, device=DEVICE, latent_dim=LATENT_DIM).to(DEVICE)"
   ]
  },
  {
   "cell_type": "code",
   "execution_count": null,
   "metadata": {},
   "outputs": [],
   "source": [
    "from utils.train import Trainer\n",
    "\n",
    "model_run = Trainer(model=vae, \n",
    "                    criterion=ChamferDistanceLoss(),\n",
    "                    optimizer=optim.Adam(vae.parameters(), config['trainer_parameters']['lr']),\n",
    "                    **config['model_parameters']\n",
    "                    )"
   ]
  },
  {
   "cell_type": "code",
   "execution_count": null,
   "metadata": {},
   "outputs": [],
   "source": [
    "points, _, _ = model_run._sanitizer(next(iter(train_loader)))\n",
    "PointsTo3DShape(points[0][0].squeeze())\n"
   ]
  },
  {
   "cell_type": "code",
   "execution_count": null,
   "metadata": {},
   "outputs": [],
   "source": [
    "points = points.to(config['model_parameters']['device'])\n",
    "global_features, _, _ = model_run.model.encoder(points)\n",
    "mu = model_run.model.fc_mu(global_features)\n",
    "logvar = model_run.model.fc_logvar(global_features)\n",
    "mu = torch.randn((10000, 128))\n",
    "logvar = torch.randn((10000, 128))\n",
    "\n",
    "#mu = torch.zeros_like(mu)\n",
    "#logvar = torch.zeros_like(logvar)\n",
    "print(mu.mean())\n",
    "print(logvar.mean())\n",
    "\n",
    "model_run.model.reparameterize(mu, logvar)\n"
   ]
  },
  {
   "cell_type": "code",
   "execution_count": null,
   "metadata": {},
   "outputs": [],
   "source": [
    "plt.hist(mu[0].numpy())"
   ]
  },
  {
   "cell_type": "code",
   "execution_count": null,
   "metadata": {},
   "outputs": [],
   "source": [
    "torch.mean(-0.5 * torch.sum(1 + logvar - mu ** 2 - logvar.exp(), dim = 1), dim = 0)\n",
    "# sum(p[i] * log2(p[i]/q[i]) for i in range(len(p)))\n",
    "# KL(P || Q) = – sum x in X P(x) * log(Q(x) / P(x))\n"
   ]
  },
  {
   "cell_type": "code",
   "execution_count": null,
   "metadata": {},
   "outputs": [],
   "source": [
    "model_run.fit(train_loader, val_loader, 100)"
   ]
  },
  {
   "cell_type": "markdown",
   "metadata": {},
   "source": [
    "# END OF TRAINING CYCLE"
   ]
  },
  {
   "cell_type": "code",
   "execution_count": null,
   "metadata": {},
   "outputs": [],
   "source": [
    "model_evaluate = Evaluater(\n",
    "        model=vae,\n",
    "        criterion=ChamferDistanceLoss(),\n",
    "        encoder_type='ConvolutionEncoder',\n",
    "        model_type='VAE',\n",
    "        checkpoint='../models/checkpoints/trial/checkpoint_499.pth',\n",
    "        device='mps',\n",
    "        )"
   ]
  },
  {
   "cell_type": "code",
   "execution_count": null,
   "metadata": {},
   "outputs": [],
   "source": [
    "points, reconstructed_x = model_evaluate.evaluate_data(next(iter(val_loader)))"
   ]
  },
  {
   "cell_type": "code",
   "execution_count": null,
   "metadata": {},
   "outputs": [],
   "source": [
    "N=30\n",
    "PointsTo3DShape(points[N].squeeze().cpu())\n"
   ]
  },
  {
   "cell_type": "code",
   "execution_count": null,
   "metadata": {},
   "outputs": [],
   "source": [
    "PointsTo3DShape(reconstructed_x[N].cpu())\n"
   ]
  },
  {
   "cell_type": "code",
   "execution_count": null,
   "metadata": {},
   "outputs": [],
   "source": [
    "import pyvista as pv\n",
    "point_cloud = pv.PolyData(reconstructed_x[N].cpu().numpy())\n",
    "mesh = point_cloud.reconstruct_surface()\n",
    "mesh.plot(color='orange')\n"
   ]
  },
  {
   "cell_type": "code",
   "execution_count": null,
   "metadata": {},
   "outputs": [],
   "source": []
  }
 ],
 "metadata": {
  "kernelspec": {
   "display_name": "base",
   "language": "python",
   "name": "python3"
  },
  "language_info": {
   "codemirror_mode": {
    "name": "ipython",
    "version": 3
   },
   "file_extension": ".py",
   "mimetype": "text/x-python",
   "name": "python",
   "nbconvert_exporter": "python",
   "pygments_lexer": "ipython3",
   "version": "3.9.16"
  },
  "orig_nbformat": 4,
  "vscode": {
   "interpreter": {
    "hash": "6c3515861ec4313dacaa20b0eec5bf326e6557b6589b7b6a4fe3c8baa566747d"
   }
  }
 },
 "nbformat": 4,
 "nbformat_minor": 2
}
